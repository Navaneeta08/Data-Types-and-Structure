{
  "nbformat": 4,
  "nbformat_minor": 0,
  "metadata": {
    "colab": {
      "provenance": [],
      "collapsed_sections": [
        "11VByV7crJZD"
      ]
    },
    "kernelspec": {
      "name": "python3",
      "display_name": "Python 3"
    },
    "language_info": {
      "name": "python"
    }
  },
  "cells": [
    {
      "cell_type": "markdown",
      "source": [
        "# **Theoritical Question**"
      ],
      "metadata": {
        "id": "11VByV7crJZD"
      }
    },
    {
      "cell_type": "markdown",
      "source": [
        "## **1. What are data structures, and why are they important?**\n"
      ],
      "metadata": {
        "id": "PEW2YFiRrXwR"
      }
    },
    {
      "cell_type": "markdown",
      "source": [
        "**Data Structure:**\n",
        "\n",
        "- Data Structures are formats in which data can be stored and organized to be able to access and manipulate it in the time of use.\n",
        "\n",
        "**Importance of Data Structure:**\n",
        "- Allow us to manage and manipulate data efficiently.\n",
        "- Faster Operation on vast data.\n",
        "- Help in solving complex problems easily.\n",
        "- Oraganizes data for easy access.\n",
        "- Helps in efiicient memory management.\n",
        "- provides optimal performance on dynamic data types.\n",
        "-  Provides Optimization according to data type.\n",
        "\n",
        "\n"
      ],
      "metadata": {
        "id": "K46Wfg_rrfb_"
      }
    },
    {
      "cell_type": "markdown",
      "source": [
        "## **2. Explain the difference between mutable and immutable data types with examples.**"
      ],
      "metadata": {
        "id": "rIVl7q5FrhVn"
      }
    },
    {
      "cell_type": "markdown",
      "source": [
        "**Mutable Data:**\n",
        "- Values of which can be changed or modified after they are assigned are known as mutable data types.\n",
        "- Elements/Prperties can be modified, removed, changed, added of an object with out changing or creating a new object in the memory.\n",
        "- e.g:- Lists, Dictonaries, Sets.\n",
        "- Use case- Where data modification takes place frequently, mutable data types are preffered."
      ],
      "metadata": {
        "id": "QUNRYIJ4rqLY"
      }
    },
    {
      "cell_type": "code",
      "source": [
        "# List as Mutable Data Type:\n",
        "l1=[1,2,3,4]\n",
        "l1[0]=10\n",
        "print(l1)"
      ],
      "metadata": {
        "colab": {
          "base_uri": "https://localhost:8080/"
        },
        "id": "YB9IBWbhyvh7",
        "outputId": "422b1277-f193-4477-e322-b7dc7e33ad09"
      },
      "execution_count": null,
      "outputs": [
        {
          "output_type": "stream",
          "name": "stdout",
          "text": [
            "[10, 2, 3, 4]\n"
          ]
        }
      ]
    },
    {
      "cell_type": "code",
      "source": [
        "# Dictonary as Mutable Data Type:\n",
        "d1={'a':1,'b':2,'c':3}\n",
        "d1['a']=10\n",
        "print(d1)"
      ],
      "metadata": {
        "colab": {
          "base_uri": "https://localhost:8080/"
        },
        "id": "Wj1W3kYYy6CZ",
        "outputId": "d4a79af8-ab5a-43b0-e78f-f5c3b93bdf3a"
      },
      "execution_count": null,
      "outputs": [
        {
          "output_type": "stream",
          "name": "stdout",
          "text": [
            "{'a': 10, 'b': 2, 'c': 3}\n"
          ]
        }
      ]
    },
    {
      "cell_type": "code",
      "source": [
        "# Sets as Mutable Data Type:\n",
        "s1={1,2,3,4}\n",
        "s1.add(5)\n",
        "print(s1)"
      ],
      "metadata": {
        "colab": {
          "base_uri": "https://localhost:8080/"
        },
        "id": "n5uiOnz5zBM1",
        "outputId": "6b26e8bc-f3f1-42a5-d9d9-e70e78741c3a"
      },
      "execution_count": null,
      "outputs": [
        {
          "output_type": "stream",
          "name": "stdout",
          "text": [
            "{1, 2, 3, 4, 5}\n"
          ]
        }
      ]
    },
    {
      "cell_type": "markdown",
      "source": [
        "**Immutable Data:**\n",
        "- Whose values can not be changed after they are created are known as immutable data type.\n",
        "- Error will be occured if modification is tried.\n",
        "- Only by creating a new variable, updation in the value can be done.\n",
        "- e.g:- strings, tuples, frozensets.\n",
        "- Use case- where data must remain constant, immutable data types are used."
      ],
      "metadata": {
        "id": "tORCSPR6zHIo"
      }
    },
    {
      "cell_type": "code",
      "source": [
        "# Strings as Immutable Data Type:\n",
        "s1=\"Navi\"\n",
        "s1[0]=\"K\"\n",
        "print(s1)\n",
        "# Will show error as string does not support item assignment."
      ],
      "metadata": {
        "colab": {
          "base_uri": "https://localhost:8080/",
          "height": 193
        },
        "id": "91rOvLuDzFtk",
        "outputId": "c9e3f050-d163-4064-8a39-1ac709562913"
      },
      "execution_count": null,
      "outputs": [
        {
          "output_type": "error",
          "ename": "TypeError",
          "evalue": "'str' object does not support item assignment",
          "traceback": [
            "\u001b[0;31m---------------------------------------------------------------------------\u001b[0m",
            "\u001b[0;31mTypeError\u001b[0m                                 Traceback (most recent call last)",
            "\u001b[0;32m/tmp/ipython-input-4-1773019656.py\u001b[0m in \u001b[0;36m<cell line: 0>\u001b[0;34m()\u001b[0m\n\u001b[1;32m      1\u001b[0m \u001b[0;31m# Strings as Immutable Data Type:\u001b[0m\u001b[0;34m\u001b[0m\u001b[0;34m\u001b[0m\u001b[0m\n\u001b[1;32m      2\u001b[0m \u001b[0ms1\u001b[0m\u001b[0;34m=\u001b[0m\u001b[0;34m\"Navi\"\u001b[0m\u001b[0;34m\u001b[0m\u001b[0;34m\u001b[0m\u001b[0m\n\u001b[0;32m----> 3\u001b[0;31m \u001b[0ms1\u001b[0m\u001b[0;34m[\u001b[0m\u001b[0;36m0\u001b[0m\u001b[0;34m]\u001b[0m\u001b[0;34m=\u001b[0m\u001b[0;34m\"K\"\u001b[0m\u001b[0;34m\u001b[0m\u001b[0;34m\u001b[0m\u001b[0m\n\u001b[0m\u001b[1;32m      4\u001b[0m \u001b[0mprint\u001b[0m\u001b[0;34m(\u001b[0m\u001b[0ms1\u001b[0m\u001b[0;34m)\u001b[0m\u001b[0;34m\u001b[0m\u001b[0;34m\u001b[0m\u001b[0m\n",
            "\u001b[0;31mTypeError\u001b[0m: 'str' object does not support item assignment"
          ]
        }
      ]
    },
    {
      "cell_type": "code",
      "source": [
        "# Tuples as Immutable Data Type:\n",
        "t1=(1,2,3,4)\n",
        "t1[0]=10\n",
        "print(t1)\n",
        "# Will show error as tuple does not support item assignment."
      ],
      "metadata": {
        "colab": {
          "base_uri": "https://localhost:8080/",
          "height": 211
        },
        "id": "f1dhRIdX07d5",
        "outputId": "5aac3550-f74e-4320-8da1-3c274a9ba068"
      },
      "execution_count": null,
      "outputs": [
        {
          "output_type": "error",
          "ename": "TypeError",
          "evalue": "'tuple' object does not support item assignment",
          "traceback": [
            "\u001b[0;31m---------------------------------------------------------------------------\u001b[0m",
            "\u001b[0;31mTypeError\u001b[0m                                 Traceback (most recent call last)",
            "\u001b[0;32m/tmp/ipython-input-5-1598101412.py\u001b[0m in \u001b[0;36m<cell line: 0>\u001b[0;34m()\u001b[0m\n\u001b[1;32m      1\u001b[0m \u001b[0;31m# Tuples as Immutable Data Type:\u001b[0m\u001b[0;34m\u001b[0m\u001b[0;34m\u001b[0m\u001b[0m\n\u001b[1;32m      2\u001b[0m \u001b[0mt1\u001b[0m\u001b[0;34m=\u001b[0m\u001b[0;34m(\u001b[0m\u001b[0;36m1\u001b[0m\u001b[0;34m,\u001b[0m\u001b[0;36m2\u001b[0m\u001b[0;34m,\u001b[0m\u001b[0;36m3\u001b[0m\u001b[0;34m,\u001b[0m\u001b[0;36m4\u001b[0m\u001b[0;34m)\u001b[0m\u001b[0;34m\u001b[0m\u001b[0;34m\u001b[0m\u001b[0m\n\u001b[0;32m----> 3\u001b[0;31m \u001b[0mt1\u001b[0m\u001b[0;34m[\u001b[0m\u001b[0;36m0\u001b[0m\u001b[0;34m]\u001b[0m\u001b[0;34m=\u001b[0m\u001b[0;36m10\u001b[0m\u001b[0;34m\u001b[0m\u001b[0;34m\u001b[0m\u001b[0m\n\u001b[0m\u001b[1;32m      4\u001b[0m \u001b[0mprint\u001b[0m\u001b[0;34m(\u001b[0m\u001b[0mt1\u001b[0m\u001b[0;34m)\u001b[0m\u001b[0;34m\u001b[0m\u001b[0;34m\u001b[0m\u001b[0m\n\u001b[1;32m      5\u001b[0m \u001b[0;31m# Will show error as tuple does not support item assignment.\u001b[0m\u001b[0;34m\u001b[0m\u001b[0;34m\u001b[0m\u001b[0m\n",
            "\u001b[0;31mTypeError\u001b[0m: 'tuple' object does not support item assignment"
          ]
        }
      ]
    },
    {
      "cell_type": "code",
      "source": [
        "# Frozen Set as Immutable Data Type:\n",
        "f1=frozenset([1,2,3,4])\n",
        "f1[0]=10\n",
        "print(f1)\n",
        "# Will show error as frozenset does not support item assignment."
      ],
      "metadata": {
        "colab": {
          "base_uri": "https://localhost:8080/",
          "height": 211
        },
        "id": "dZOumw051Ism",
        "outputId": "1beddbf0-0ce0-42a8-e231-7def6589cd57"
      },
      "execution_count": null,
      "outputs": [
        {
          "output_type": "error",
          "ename": "TypeError",
          "evalue": "'frozenset' object does not support item assignment",
          "traceback": [
            "\u001b[0;31m---------------------------------------------------------------------------\u001b[0m",
            "\u001b[0;31mTypeError\u001b[0m                                 Traceback (most recent call last)",
            "\u001b[0;32m/tmp/ipython-input-6-2015691325.py\u001b[0m in \u001b[0;36m<cell line: 0>\u001b[0;34m()\u001b[0m\n\u001b[1;32m      1\u001b[0m \u001b[0;31m# Frozen Set as Immutable Data Type:\u001b[0m\u001b[0;34m\u001b[0m\u001b[0;34m\u001b[0m\u001b[0m\n\u001b[1;32m      2\u001b[0m \u001b[0mf1\u001b[0m\u001b[0;34m=\u001b[0m\u001b[0mfrozenset\u001b[0m\u001b[0;34m(\u001b[0m\u001b[0;34m[\u001b[0m\u001b[0;36m1\u001b[0m\u001b[0;34m,\u001b[0m\u001b[0;36m2\u001b[0m\u001b[0;34m,\u001b[0m\u001b[0;36m3\u001b[0m\u001b[0;34m,\u001b[0m\u001b[0;36m4\u001b[0m\u001b[0;34m]\u001b[0m\u001b[0;34m)\u001b[0m\u001b[0;34m\u001b[0m\u001b[0;34m\u001b[0m\u001b[0m\n\u001b[0;32m----> 3\u001b[0;31m \u001b[0mf1\u001b[0m\u001b[0;34m[\u001b[0m\u001b[0;36m0\u001b[0m\u001b[0;34m]\u001b[0m\u001b[0;34m=\u001b[0m\u001b[0;36m10\u001b[0m\u001b[0;34m\u001b[0m\u001b[0;34m\u001b[0m\u001b[0m\n\u001b[0m\u001b[1;32m      4\u001b[0m \u001b[0mprint\u001b[0m\u001b[0;34m(\u001b[0m\u001b[0mf1\u001b[0m\u001b[0;34m)\u001b[0m\u001b[0;34m\u001b[0m\u001b[0;34m\u001b[0m\u001b[0m\n\u001b[1;32m      5\u001b[0m \u001b[0;31m# Will show error as frozenset does not support item assignment.\u001b[0m\u001b[0;34m\u001b[0m\u001b[0;34m\u001b[0m\u001b[0m\n",
            "\u001b[0;31mTypeError\u001b[0m: 'frozenset' object does not support item assignment"
          ]
        }
      ]
    },
    {
      "cell_type": "markdown",
      "source": [
        "## **3.** **What are the main differences between lists and tuples in Python?**"
      ],
      "metadata": {
        "id": "50TyZjD2rqD4"
      }
    },
    {
      "cell_type": "markdown",
      "source": [
        "- Lists and Tuples differs in their mutability, performance, memory usage and their intended use case.\n",
        "\n",
        " **1. Mutability:**\n",
        "\n",
        "  **Lists:**\n",
        "  - Lists can be changed like elements can be added, removed or modified after they are assigned.\n",
        "  - Alteration in object take place with out creating a new object.\n",
        "\n",
        "\n",
        "```\n",
        "# my_list=[1,2,3]\n",
        "my_list[0]=10 >> modify an element\n",
        "my_list.append(40) >> addition of an element\n",
        "my_list.remove(2) >> remove an element\n",
        "print(my_list) >> output:[10,3,40]\n",
        "\n",
        "```\n",
        "\n",
        "   **Tuples:**\n",
        "   - Tuples do no allow item assignment after they are created.\n",
        "   - The elements inside a tuple are fixed.\n",
        "   - Error will show at any operation that tries to \"modify\" it or a new tuple will be created.\n",
        "\n",
        "\n",
        "```\n",
        "# my_tuple=(1,2,3)\n",
        "my_tuple[0]=10 >> Type Error\n",
        "my_tuple.append(40) >> Attribute Error\n",
        "\n",
        "```\n",
        "**Note:** Though Tuples are immutable data type, if it contains any mutable objects, they can be mutable.\n",
        "\n",
        "**2. Intended Use Case:**\n",
        "\n",
        "**Lists:**\n",
        "  - In case of scenarios where the elements ted to change frequently, Lists are used.\n",
        "  - Ideal for storing when the data might grow or shrink over the time period.\n",
        "\n",
        "**Tuples:**\n",
        "- Where the elements or objects are fixed, heterogenous and united(as a single unit of data),Tuples are preffered.\n",
        "- Use Case- repesenting records, co-ordinates etc.\n",
        "\n",
        "**3. Performance and Memory:**\n",
        "\n",
        "**Lists:**\n",
        "- As they are mutable; generally have higher memory footprint to perform all those modification and iteration.\n",
        "\n",
        "**Tuples:**\n",
        "- Slightly Lower memory footprintdue to its immutability.\n",
        "- Can be little faster in case of iterating and accessing the objects in case of very large data set.\n",
        "\n",
        "**3. Hashability:**\n",
        "\n",
        " **Lists:**\n",
        " - Due to its mutability nature, they can not be used as Keys in dictonaries.\n",
        "\n",
        "**Tuples:**\n",
        "- It can be used as keys in dictonaries as they are immutable.\n",
        "\n",
        "**4. Syntax:**\n",
        "\n",
        "**Lists:**\n",
        "- Defined using square brackets[].\n",
        "\n",
        "**Tuples:**\n",
        "- Defied using paranthesis().\n",
        "\n",
        "**5. Functions:**\n",
        "\n",
        "**Lists:**\n",
        "- opend(), insert(), remove(), sort() etc\n",
        "\n",
        "**Tuples:**\n",
        "- count(), index()"
      ],
      "metadata": {
        "id": "6VPAVDbkrwgo"
      }
    },
    {
      "cell_type": "markdown",
      "source": [
        "## **4. Describe how dictionaries store data?**"
      ],
      "metadata": {
        "id": "kq0wi-cLrxCD"
      }
    },
    {
      "cell_type": "markdown",
      "source": [
        "- Dictonaries in python stores data in Key-Value Pairs.\n",
        "- While a value can be of any data type and mutable, keys must be unique and immutable.\n",
        "- Dictonaries are case sensitive i.e. same name but in different cases are considered as different keys.\n",
        "- The key in dictonaries are saved as unique hash values or code.\n",
        "- Value from a dictonaries can be accessed by get() function.\n",
        "- New Key-Value pairs can be added to a dictanaries.\n",
        "- Items can be removed from a dictonary by the help of del, pop(), clear() functions.\n",
        "- Nested Dictonary:  A dictonary can be saved inside a dictonary as a 'value'.\n",
        "- A copy of dictonary can be done by 2 methods: Shallow Copy and Deep Copy.\n",
        "  - **Shallow Copy:** Creates a new dictonary with  copies of same key-value pair. Any changes in the main dictonary will result changes in the new one also.\n",
        "    - Syntax: copy.copy()\n",
        "  - **Deep Copy:**  Creates a new dictonary with separate copies of all data.Even if the main dictonary is modified, the second one will not be modified.\n",
        "    - Syntax: copy.deepcopy()\n",
        "\n",
        "\n",
        "\n",
        "\n",
        "\n"
      ],
      "metadata": {
        "id": "jYGkSZt_r6DO"
      }
    },
    {
      "cell_type": "markdown",
      "source": [
        "## **5.Why might you use a set instead of a list in Python?**"
      ],
      "metadata": {
        "id": "leU6WUBlr6AG"
      }
    },
    {
      "cell_type": "markdown",
      "source": [
        "- Lists are ordered collecetion of elements which can contain duplicate items also. These are defined with square brackets[].\n",
        "- Sets are unordered collection of unique elements which are defined with{] braces.\n",
        "- In Python, both List and Sets are used to store databases of different kinds.\n",
        "- Databases whose elements need to be unique, sets are preffered in those scenarios.\n",
        "- Where indexing of elements are not needed and their order in the database is not necessary sets are used.\n",
        "- For Mathematical set operations, sets have build in menthods to perform operations like union, intersection, difference and symmetrical difference."
      ],
      "metadata": {
        "id": "2IXIJ9m8r_tm"
      }
    },
    {
      "cell_type": "markdown",
      "source": [
        "## **6. What is a string in Python, and how is it different from a list?**"
      ],
      "metadata": {
        "id": "tm-EYiRcr_qm"
      }
    },
    {
      "cell_type": "markdown",
      "source": [
        "- In Python, String is a sequence of characters enclosed either in single(''), double(\"\") or triple quotes(''' ''')(\"\"\" \"\"\").\n",
        "- Strings differ from list in their mutability factor. Strings are Immutable whereas the Lists are Mutable objects.\n",
        "- While Strings are sequence of Characters/Alphabets, Lists are sequence of elements meaning they can hold any type of data.\n",
        "- In short, Strings hold homogenous data while lists heterogenous data.\n",
        "- Strings are used to represent textual data while lists can contain integers, float, boolean strings, other lists as well.\n",
        "- Strings:Fixed size in memory after they are created; Lists: dynamic size in memory.\n",
        "- String supported functions: upper(), lower(), split(), replace(), find(), strip() etc.\n",
        "- List Supported functions: append(), insert(), pop(), remove(), sort()\n",
        "- Strings are stored inside paranthesis(); Lists are stored inside square brackets[]."
      ],
      "metadata": {
        "id": "1y_8XcE6sHG-"
      }
    },
    {
      "cell_type": "markdown",
      "source": [
        "## **7. How do tuples ensure data integrity in Python?**"
      ],
      "metadata": {
        "id": "nYNuOJassHov"
      }
    },
    {
      "cell_type": "markdown",
      "source": [
        "- Data Integrity: Ensuring data accuracy, consistancy and remains unaltered through out.\n",
        "- Tuples ensures data integrity primaryly through its fundamental property i.e., Immutability.\n",
        "- Which implies that once a data is stored inside a tuple, it cann't be changed, added, removed in its memory location.\n",
        "- Once a tuple is defined, its elements and their order will remain same through out.\n",
        "- Use Case- While storing co-ordinates, database records\n",
        "- To make any modification to a tuple, a new tuple must be created otherwise it won't be changed.\n",
        "- It prevents accidental alteration of data.\n",
        "- Thus ensuring data consistency."
      ],
      "metadata": {
        "id": "JyhOXQLasO-N"
      }
    },
    {
      "cell_type": "markdown",
      "source": [
        "## **8. What is a hash table, and how does it relate to dictionaries in Python?**\n"
      ],
      "metadata": {
        "id": "b6P31JhXsPcF"
      }
    },
    {
      "cell_type": "markdown",
      "source": [
        "- **Hash Table:** A Type of Data Structure that stores data in Key-Value Pair format. It uses a \"Hash Function\" to compute an index(hash) from the key, which indicates its location in the memory.\n",
        "- Helps to access data quickly.\n",
        "- **Process:**\n",
        "  - A Key is passed into a hash function.\n",
        "  - A hash function returns an index.\n",
        "  - The Value is stored in that index.\n",
        "  - To retrive the calue later, the same key is hashed again, directing to its index.\n",
        "- In Python, Dictonaries are implimented using hash tables. Thus allowing for fast look ups, insertions and deletions.\n",
        "- Relation to Dictonaries in Python:\n",
        "  - Python dictonaries stores data in key-value pair: fundamental concept of hash table.\n",
        "  - Since keys are passed through a hash function to determine their storage location, they must be hashable i.e., they must be immutable as their value will never change after their creation to return same value every time for the same object.\n"
      ],
      "metadata": {
        "id": "ao0L5q2-sYvs"
      }
    },
    {
      "cell_type": "markdown",
      "source": [
        "## **9. Can lists contain different data types in Python?**"
      ],
      "metadata": {
        "id": "sKVQmeJSsZO8"
      }
    },
    {
      "cell_type": "markdown",
      "source": [
        "- Yes, Lists can contain different data types in Python.\n",
        "- A single list in python can contain strings, integeres, float, boolean, complex nos values at once.\n",
        "-Python lists are dynamic and can contain heterogenous data in a single list altogether.\n",
        "\n",
        "\n"
      ],
      "metadata": {
        "id": "-t9nafZzsfKl"
      }
    },
    {
      "cell_type": "code",
      "source": [
        "my_list=[\"Navi\",25,78.3,True,2+3j]\n",
        "print(my_list)"
      ],
      "metadata": {
        "colab": {
          "base_uri": "https://localhost:8080/"
        },
        "id": "xUf0DlRWD-zV",
        "outputId": "e1d67d73-7d7e-4bb2-8fe6-ac3fb251c311"
      },
      "execution_count": null,
      "outputs": [
        {
          "output_type": "stream",
          "name": "stdout",
          "text": [
            "['Navi', 25, 78.3, True, (2+3j)]\n"
          ]
        }
      ]
    },
    {
      "cell_type": "markdown",
      "source": [
        "## **10. Explain why strings are immutable in Python?**"
      ],
      "metadata": {
        "id": "KZ68RDA5sfl2"
      }
    },
    {
      "cell_type": "markdown",
      "source": [
        "- After a string object is created, it cann't be changed. They are designed likewise to ensure data consistency and consistancy.\n",
        "- Any trial to make any changes or modification in a string object like Concatenation or replacement results in creation of a new string in the memory. The original string remains unchanged in the memory.\n",
        "- In short, Immutability of strings in Python is a intended design choice that leads to significant performance enhancement, memory efficiency and easy accessibility of data."
      ],
      "metadata": {
        "id": "dxado4bJsmTM"
      }
    },
    {
      "cell_type": "markdown",
      "source": [
        "## **11.What advantages do dictionaries offer over lists for certain tasks?**"
      ],
      "metadata": {
        "id": "vc8pSSntsmpE"
      }
    },
    {
      "cell_type": "markdown",
      "source": [
        "- Dictonaries offers certain advantages over lists mostly focousing on data accessing and organizing.\n",
        "- Dictonaries store data as key-value pairs, allowing for direct and very fast retrieval of values through their keys.\n",
        "- Keys provides a descriptive label for its values, making it more readable, representating their realtionship.\n",
        "- Diconaries are flexible data structure where the order of storing the data is not much important, but quick access to specific items by its uniquw identifier or key.\n",
        "- In order to maintain consistent structure, dictonaries can effectively store current attributes in data with limited properties, eleminating the need for complicated indexing or placeholder values.\n",
        "- Dictonaries are great for representing relationaships or mapings between pieces of data. Keys gives a brief description about its values. While lists are better suited for ordered collection where the position of the element is important.\n"
      ],
      "metadata": {
        "id": "y9rLo7dSssY7"
      }
    },
    {
      "cell_type": "markdown",
      "source": [
        "## **12. Describe a scenario where using a tuple would be preferable over a list.**"
      ],
      "metadata": {
        "id": "R6vKh5wvstME"
      }
    },
    {
      "cell_type": "markdown",
      "source": [
        "- In case of scenarios where the data needs to be fixed, unchanged throughout the program's execution, Tuples are preffered over a list.\n",
        "- Immutability nature of tuples plays a advantageous role in ensuring data integrity and predictibility.\n",
        "- **Scenario:** **Identification of Species and its Taxonomic Hirarchy:**\n",
        "  - Identification of Organisms based on their fixed taxonomic classification (e.g., Kingdom, Phylum, Class, Order, Family, Genus, Species). These Classifications are fundamental and fixed for a specific species.\n",
        "    - **Why Tuples are more preferrable over a list here?**\n",
        "      - **Fixed Identity:** A taxonomic path(Kingdom, Phylum, Class,....) defines a specific organism. If any part of it changes, the defining characteristics of that organism also changes. Thus choosing a tuple enforces the rigidity.\n",
        "      - **Immutability:** These database in the form of tuple can be used as keys in a dictonary (e.g., maping a species to its habitat or its conservation status) their immutability makes them hashable and therefore valid dictonary keys, providing efficient lookup.\n",
        "      - **Clarity of Purpose:** Tuples ensures the sequence of elements fixed, uniterable.\n",
        "      \n"
      ],
      "metadata": {
        "id": "ZgW_BSXIsy1V"
      }
    },
    {
      "cell_type": "code",
      "source": [
        "# Example:\n",
        "# Defining taxonomic paths of different species:\n",
        "species_mango=(\"Kingdom:\", \"Plantae\", \"Division:\", \"Magnoliophyta\", \"Class:\", \"Magnoliopsida\", \"Order:\" ,\"Sapindales\", \"Family:\" ,\"Anacardiaceae\", \"Genus:\", \"Mangifera\", \"Species:\" ,\"indica.\")\n",
        "species_lion=(\"Kingdom:\", \"Animalia\", \"Division:\", \"Carnivora\", \"Class:\", \"Feliformia\", \"Order:\" ,\"Carnivora\", \"Family:\" ,\"Felidae\", \"Genus:\", \"Panthera\", \"Species:\" ,\"leo.\")\n",
        "print(f\"Species Mango: {species_mango}\")\n",
        "print(f\"Species Lion: {species_lion}\")\n",
        "\n",
        "# Using the Taxonomic tuple as a dictonary key to store conservation status:\n",
        "conservation_status={species_mango: \"Least Concern\", species_lion: \"Endangered\"}\n",
        "print(conservation_status)\n",
        "\n",
        "print(f\"Conseravtion Status of Mango: {conservation_status[species_mango]}\")\n",
        "print(f\"Conseravtion Status of Lion: {conservation_status[species_lion]}\")\n",
        "\n",
        "\n",
        "# Trying to change a part of classification would be an error."
      ],
      "metadata": {
        "colab": {
          "base_uri": "https://localhost:8080/"
        },
        "id": "cT28GsxddduF",
        "outputId": "c974d44c-457e-42a2-8698-b19c260673a0"
      },
      "execution_count": null,
      "outputs": [
        {
          "output_type": "stream",
          "name": "stdout",
          "text": [
            "Species Mango: ('Kingdom:', 'Plantae', 'Division:', 'Magnoliophyta', 'Class:', 'Magnoliopsida', 'Order:', 'Sapindales', 'Family:', 'Anacardiaceae', 'Genus:', 'Mangifera', 'Species:', 'indica.')\n",
            "Species Lion: ('Kingdom:', 'Animalia', 'Division:', 'Carnivora', 'Class:', 'Feliformia', 'Order:', 'Carnivora', 'Family:', 'Felidae', 'Genus:', 'Panthera', 'Species:', 'leo.')\n",
            "{('Kingdom:', 'Plantae', 'Division:', 'Magnoliophyta', 'Class:', 'Magnoliopsida', 'Order:', 'Sapindales', 'Family:', 'Anacardiaceae', 'Genus:', 'Mangifera', 'Species:', 'indica.'): 'Least Concern', ('Kingdom:', 'Animalia', 'Division:', 'Carnivora', 'Class:', 'Feliformia', 'Order:', 'Carnivora', 'Family:', 'Felidae', 'Genus:', 'Panthera', 'Species:', 'leo.'): 'Endangered'}\n",
            "Conseravtion Status of Mango: Least Concern\n",
            "Conseravtion Status of Lion: Endangered\n"
          ]
        }
      ]
    },
    {
      "cell_type": "markdown",
      "source": [
        "## **13. How do sets handle duplicate values in Python?**"
      ],
      "metadata": {
        "id": "3CT8ig4bszKT"
      }
    },
    {
      "cell_type": "markdown",
      "source": [
        "- Lists in Python are designed to remove duplicate values by default.\n",
        "- Sets in python are defined as the unordered collection of unique elements.\n"
      ],
      "metadata": {
        "id": "DfzXpVJOs5ob"
      }
    },
    {
      "cell_type": "code",
      "source": [
        "# While Creating a SET:\n",
        "# If a set contain iterable elements like list, tuple, stings containing duplicate elements,\n",
        "# While creating it, they will be automatically dismissed by the interpretor\n",
        "# Keeping only one element of every duplicate values.\n",
        "\n",
        "list_cons_dupes=[1,2,3,4,5,5,6,2,7,6,1]\n",
        "my_set=set(list_cons_dupes)\n",
        "print(my_set)\n",
        "\n",
        "\n",
        "my_str=\"Navaneeta\"\n",
        "unique_str=set(my_str)\n",
        "print(unique_str)"
      ],
      "metadata": {
        "colab": {
          "base_uri": "https://localhost:8080/"
        },
        "id": "ZdTW5JRWgX2n",
        "outputId": "3626d246-84c8-410b-cc5b-fa8a7f4f4ac0"
      },
      "execution_count": null,
      "outputs": [
        {
          "output_type": "stream",
          "name": "stdout",
          "text": [
            "{1, 2, 3, 4, 5, 6, 7}\n",
            "{'e', 't', 'a', 'v', 'n', 'N'}\n"
          ]
        }
      ]
    },
    {
      "cell_type": "code",
      "source": [
        "# After the SET is Created:\n",
        "# If a value which already exists in the set is added,\n",
        "# It won't be executed but simply be ignored.\n",
        "# The Set content will not change and its size will remain same\n",
        "\n",
        "my_set={1,2,3,4,5,6}\n",
        "my_set.add(2)\n",
        "my_set.add(7)\n",
        "print(my_set)"
      ],
      "metadata": {
        "colab": {
          "base_uri": "https://localhost:8080/"
        },
        "id": "RTpLPdZ6hf42",
        "outputId": "7631b618-757d-49d3-a0bf-79642d41fe1d"
      },
      "execution_count": null,
      "outputs": [
        {
          "output_type": "stream",
          "name": "stdout",
          "text": [
            "{1, 2, 3, 4, 5, 6, 7}\n"
          ]
        }
      ]
    },
    {
      "cell_type": "markdown",
      "source": [
        "## **14. How does the “in” keyword work differently for lists and dictionaries?**"
      ],
      "metadata": {
        "id": "onxwBjLzs5_D"
      }
    },
    {
      "cell_type": "markdown",
      "source": [
        "- \"In\" keyword in Python checks **Membership Testing** of an element i.e., if that element exists or not.\n",
        "- But its behaviour in displaying the outputs differs in lists and dictonaries.\n"
      ],
      "metadata": {
        "id": "_Q5glBkLtCIj"
      }
    },
    {
      "cell_type": "code",
      "source": [
        "  # 1.List: within a python list, \"in\" checks if a value is present in the list or not.\n",
        "my_subject=[\"Physics\",\"Chemistry\",\"Biology\"]\n",
        "print(\"Physics\" in my_subject)\n",
        "print(\"Maths\" in my_subject)\n"
      ],
      "metadata": {
        "colab": {
          "base_uri": "https://localhost:8080/"
        },
        "id": "hpvy97jwjrDi",
        "outputId": "16560370-3434-477b-eb78-e7d9e01033ea"
      },
      "execution_count": null,
      "outputs": [
        {
          "output_type": "stream",
          "name": "stdout",
          "text": [
            "True\n",
            "False\n"
          ]
        }
      ]
    },
    {
      "cell_type": "code",
      "source": [
        "# 2. Dictonaries: when used in dictonaries, \"in\" checks if a key exists or not only\n",
        "# not applicable for values.\n",
        "\n",
        "details={\"Name: \": \"Navi\", \"Age: \" :\"25\"}\n",
        "print(\"Name: \" in details)\n",
        "print(\"Navi\" in details)"
      ],
      "metadata": {
        "colab": {
          "base_uri": "https://localhost:8080/"
        },
        "id": "DYjjWJlRkEJm",
        "outputId": "fdd66802-3f8f-4671-984a-ac5b960b33df"
      },
      "execution_count": null,
      "outputs": [
        {
          "output_type": "stream",
          "name": "stdout",
          "text": [
            "True\n",
            "False\n"
          ]
        }
      ]
    },
    {
      "cell_type": "markdown",
      "source": [
        "## **15. Can you modify the elements of a tuple? Explain why or why not?**"
      ],
      "metadata": {
        "id": "hS-kNyyFtCo6"
      }
    },
    {
      "cell_type": "markdown",
      "source": [
        "- No, the elements of a tuple can not be modified once they are created due to its immutable nature.\n",
        "- Tuples are designed fundamentally as immutable in python to maintain the data integriety.\n",
        "- Once a tuple is created, its elements can not be changed, added or removed.\n",
        "- Any modification such as concatenation or slicing of a tuple actually results in the creation of a new tuple in the memory."
      ],
      "metadata": {
        "id": "Brepa21StJE6"
      }
    },
    {
      "cell_type": "markdown",
      "source": [
        "## **16. What is a nested dictionary, and give an example of its use case?**"
      ],
      "metadata": {
        "id": "ZjNrzw7JtJab"
      }
    },
    {
      "cell_type": "markdown",
      "source": [
        "- In Nested Dictonaries, the values are themselves dictonaries allowing to create a multi hirerchical data.\n",
        "- All or some of the values of the keys may be store as mini dictonary."
      ],
      "metadata": {
        "id": "uJHErwgmtQt6"
      }
    },
    {
      "cell_type": "code",
      "source": [
        "#Air Quality Data\n",
        "air_quality_data={\n",
        "    \"Kolkata- \":{\n",
        "        \"PM2.5: \": 180,\n",
        "        \"PM10: \": 220,\n",
        "        \"NO2: \": 88,\n",
        "    },\n",
        "    \"Odisha- \":{\n",
        "        \"PM2.5: \": 150,\n",
        "        \"PM10: \": 200,\n",
        "        \"NO2: \": 70,\n",
        "    }\n",
        "}\n",
        "print(air_quality_data)\n",
        "print(air_quality_data[\"Odisha- \"][\"PM2.5: \"])"
      ],
      "metadata": {
        "colab": {
          "base_uri": "https://localhost:8080/"
        },
        "id": "JTmRkLj_ISLt",
        "outputId": "6e613daa-d8af-4450-a408-b3d134471568"
      },
      "execution_count": null,
      "outputs": [
        {
          "output_type": "stream",
          "name": "stdout",
          "text": [
            "{'Kolkata- ': {'PM2.5: ': 180, 'PM10: ': 220, 'NO2: ': 88}, 'Odisha- ': {'PM2.5: ': 150, 'PM10: ': 200, 'NO2: ': 70}}\n",
            "150\n"
          ]
        }
      ]
    },
    {
      "cell_type": "markdown",
      "source": [
        "## **17. Describe the time complexity of accessing elements in a dictionary?**"
      ],
      "metadata": {
        "id": "16RF2Mi2tRBK"
      }
    },
    {
      "cell_type": "markdown",
      "source": [
        "**Time Complexity of Accessing Elements:** how much time is required to access or perform an operation scales with the size of the data structure.\n",
        "- In Python, dictonaries are implemented as hash tables, which allows for very fast access to elements by key.\n",
        "- Accessing a value by key in a dictonary is very efficient."
      ],
      "metadata": {
        "id": "n1HCXCR-tVM6"
      }
    },
    {
      "cell_type": "markdown",
      "source": [
        "## **18. In what situations are lists preferred over dictionaries?**"
      ],
      "metadata": {
        "id": "SR_0Uvk3tVfp"
      }
    },
    {
      "cell_type": "markdown",
      "source": [
        "- While Dictonaries are excellent at key-value maping and fast lookups, lists are preffered when the order of the elements matter, and their access by their indexes or the duplication of values are needed.\n"
      ],
      "metadata": {
        "id": "IcWKoYertctJ"
      }
    },
    {
      "cell_type": "code",
      "source": [
        "# When the Order of Elements are Crucial:\n",
        "## A swquence of events in cronological order(World War II)\n",
        "world_war_ii_events = []\n",
        "world_war_ii_events.append({\n",
        "    \"name\": \"Invasion of Poland\",\n",
        "    \"year\": 1939\n",
        "})\n",
        "world_war_ii_events.append({\n",
        "    \"name\": \"Battle of Britain\",\n",
        "    \"year\": 1940\n",
        "})\n",
        "world_war_ii_events.append({\n",
        "    \"name\": \"D-Day landing\",\n",
        "    \"year\": 1944\n",
        "})\n",
        "\n",
        "# Print World War II events\n",
        "print(\"--- World War II Events ---\")\n",
        "for event in world_war_ii_events:\n",
        "    print(f\"{event['name']} ({event['year']})\")"
      ],
      "metadata": {
        "colab": {
          "base_uri": "https://localhost:8080/"
        },
        "id": "GTTPkPgRMjaB",
        "outputId": "8672a906-9998-40bf-901a-c8e75f30a559"
      },
      "execution_count": null,
      "outputs": [
        {
          "output_type": "stream",
          "name": "stdout",
          "text": [
            "--- World War II Events ---\n",
            "Invasion of Poland (1939)\n",
            "Battle of Britain (1940)\n",
            "D-Day landing (1944)\n"
          ]
        }
      ]
    },
    {
      "cell_type": "code",
      "source": [
        "# Indian History Events:\n",
        "indian_history_events = []\n",
        "#BC dates as -ve:\n",
        "indian_history_events.append({\n",
        "    \"name\": \"Indus Valley Civilization\",\n",
        "    \"year\": -2550,  # Represents 2550 BC\n",
        "    \"end_year\": -1750 # Represents 1750 BC\n",
        "})\n",
        "indian_history_events.append({\n",
        "    \"name\": \"Birth of Gautama Buddha\",\n",
        "    \"year\": -563  # Represents 563 BC\n",
        "})\n",
        "indian_history_events.append({\n",
        "    \"name\": \"Establishment of the Maurya Empire\",\n",
        "    \"year\": -322  # Represents 322 BC\n",
        "})\n",
        "indian_history_events.append({\n",
        "    \"name\": \"First Battle of Panipat and establishment of the Mughal Empire\",\n",
        "    \"year\": 1526\n",
        "})\n",
        "indian_history_events.append({\n",
        "    \"name\": \"Founding of the Indian National Congress\",\n",
        "    \"year\": 1885\n",
        "})\n",
        "\n",
        "print(\"\\n--- Indian History Events ---\")\n",
        "for event in indian_history_events:\n",
        "    if event['year'] < 0:\n",
        "        # Display BC dates appropriately\n",
        "        if \"end_year\" in event:\n",
        "            print(f\"{event['name']} ({abs(event['year'])} BC - {abs(event['end_year'])} BC)\")\n",
        "        else:\n",
        "            print(f\"{event['name']} ({abs(event['year'])} BC)\")\n",
        "    else:\n",
        "        print(f\"{event['name']} ({event['year']})\")"
      ],
      "metadata": {
        "colab": {
          "base_uri": "https://localhost:8080/"
        },
        "id": "aGDoWOb5N423",
        "outputId": "28ef68e4-5b68-454b-c790-69b87a5752ad"
      },
      "execution_count": null,
      "outputs": [
        {
          "output_type": "stream",
          "name": "stdout",
          "text": [
            "\n",
            "--- Indian History Events ---\n",
            "Indus Valley Civilization (2550 BC - 1750 BC)\n",
            "Birth of Gautama Buddha (563 BC)\n",
            "Establishment of the Maurya Empire (322 BC)\n",
            "First Battle of Panipat and establishment of the Mughal Empire (1526)\n",
            "Founding of the Indian National Congress (1885)\n"
          ]
        }
      ]
    },
    {
      "cell_type": "markdown",
      "source": [
        "## **19. Why are dictionaries considered unordered, and how does that affect data retrieval?**"
      ],
      "metadata": {
        "id": "8bt7YDWktdBp"
      }
    },
    {
      "cell_type": "markdown",
      "source": [
        "- Prior to Python3.7; dictonaries were considered as uordered as the order in which elements were stored and retrieved was not gurenteed.\n",
        "- Their implimentation using hash tables meant that the order of elements did not ensure to be the same as the insertation order.\n",
        "- The position of an element was associated through hash values of its keys, not its sequence of insertion.\n",
        "- However, Python 3.7 aftrewards, dictonaries do preserve the insertion order along with association with the hash values of their keys unchanged for easy lookups.\n",
        "\n",
        "**How it Affects Data Retrival:**\n",
        "- Even though modern python dictonaries preserves insertion order, they still are considered as \"unordered\" in broader sense as they still can not be accessed by integer indexing like lists.\n",
        "- A dictonary in Python can not be slicedto retrive a sub-set of elements as it does not have first-order or second-order elements in position.\n",
        "\n",
        "\n"
      ],
      "metadata": {
        "id": "J9a7D5odtkoy"
      }
    },
    {
      "cell_type": "markdown",
      "source": [
        "## **20. Explain the difference between a list and a dictionary in terms of data retrieval.**"
      ],
      "metadata": {
        "id": "aRz59LOBMjV7"
      }
    },
    {
      "cell_type": "markdown",
      "source": [
        "The main difference between lists and dictonaries in terms of data retrival lies on how the elements are accessed.\n",
        "\n",
        "**Lists:**\n",
        "- Data in Lists are retrieved by its index(either +ve index or -Ve Index). **Positive Indexing** Starts with 0 accessing the elements from left to right. **Negative Indexing** continues with its first index as '-1' starting from right to left.\n",
        "\n",
        "**Dictonaries:**\n",
        "- Data in dictonaries are retrieved by its keys. Keys have their unique hash value stored in the memory associated with each value."
      ],
      "metadata": {
        "id": "9wkS9mSUT0pR"
      }
    },
    {
      "cell_type": "code",
      "execution_count": null,
      "metadata": {
        "id": "B8Oi5m9aqYUW",
        "colab": {
          "base_uri": "https://localhost:8080/"
        },
        "outputId": "2d07d6a3-e633-4fbb-d21c-7e288d0213ba"
      },
      "outputs": [
        {
          "output_type": "stream",
          "name": "stdout",
          "text": [
            "milk\n",
            "eggs\n",
            "True\n",
            "False\n"
          ]
        }
      ],
      "source": [
        "# Data Retrival in Lists:\n",
        "  ## Access by Index:\n",
        "my_shopping_list = ['milk', 'bread', 'eggs', 'cheese']\n",
        "print(my_shopping_list[0])\n",
        "print(my_shopping_list[2])\n",
        "\n",
        "  ## Searching by Value:\n",
        "print('bread' in my_shopping_list)\n",
        "print('butter' in my_shopping_list)\n",
        "\n"
      ]
    },
    {
      "cell_type": "code",
      "source": [
        "# Data Retrival in Dictonaries:\n",
        "  ## Access by Key:\n",
        "user_profile = {'name': 'Alice', 'age': 30, 'city': 'New York'}\n",
        "print(user_profile['name'])\n",
        "print(user_profile['age'])\n",
        "\n",
        "  ## Searching for a Key:\n",
        "user_profile = {'name': 'Alice', 'age': 30, 'city': 'New York'}\n",
        "print('city' in user_profile)\n",
        "print('gender' in user_profile)\n",
        "\n",
        "  ## Searching for a value\n",
        "print('Alice' in user_profile.values())\n",
        "print('New York' in user_profile.values())"
      ],
      "metadata": {
        "colab": {
          "base_uri": "https://localhost:8080/"
        },
        "id": "oo9udP7qVU90",
        "outputId": "0e422148-4dac-4e39-d714-e5e924510616"
      },
      "execution_count": null,
      "outputs": [
        {
          "output_type": "stream",
          "name": "stdout",
          "text": [
            "Alice\n",
            "30\n",
            "True\n",
            "False\n",
            "True\n",
            "True\n"
          ]
        }
      ]
    },
    {
      "cell_type": "markdown",
      "source": [
        "# **PRACTICAL QUESTIONS**"
      ],
      "metadata": {
        "id": "eLSMsVqYWM3x"
      }
    },
    {
      "cell_type": "markdown",
      "source": [
        "## **1. Write a code to create a string with your name and print it.**"
      ],
      "metadata": {
        "id": "xlbOd3mmWUi6"
      }
    },
    {
      "cell_type": "code",
      "source": [
        "name=\"Navaneeta Mishra\"\n",
        "print(\"Name: \",name)"
      ],
      "metadata": {
        "colab": {
          "base_uri": "https://localhost:8080/"
        },
        "id": "Qu4GRRvrZp3v",
        "outputId": "ffe6fbf1-df66-4e7a-98b2-cf3c511f9db8"
      },
      "execution_count": null,
      "outputs": [
        {
          "output_type": "stream",
          "name": "stdout",
          "text": [
            "Name:  Navaneeta Mishra\n"
          ]
        }
      ]
    },
    {
      "cell_type": "markdown",
      "source": [
        "## **2. Write a code to find the length of the string \"Hello World\".**"
      ],
      "metadata": {
        "id": "-Cq9fedSWhQT"
      }
    },
    {
      "cell_type": "code",
      "source": [
        "str_1=\"Hello World\"\n",
        "print(len(str_1))"
      ],
      "metadata": {
        "colab": {
          "base_uri": "https://localhost:8080/"
        },
        "id": "kjQzL5d5a77G",
        "outputId": "6c245093-0c94-4381-e542-be8929a12f04"
      },
      "execution_count": null,
      "outputs": [
        {
          "output_type": "stream",
          "name": "stdout",
          "text": [
            "11\n"
          ]
        }
      ]
    },
    {
      "cell_type": "markdown",
      "source": [
        "## **3. Write a code to slice the first 3 characters from the string \"Python Programming\".**"
      ],
      "metadata": {
        "id": "DIQM0XpeWpMY"
      }
    },
    {
      "cell_type": "code",
      "source": [
        "str_2=\"Python Programming\"\n",
        "str_2[0:3]"
      ],
      "metadata": {
        "colab": {
          "base_uri": "https://localhost:8080/",
          "height": 35
        },
        "id": "PCw9dspobGO8",
        "outputId": "a1d0ffc7-1c03-483c-e7c7-a50746badc24"
      },
      "execution_count": null,
      "outputs": [
        {
          "output_type": "execute_result",
          "data": {
            "text/plain": [
              "'Pyt'"
            ],
            "application/vnd.google.colaboratory.intrinsic+json": {
              "type": "string"
            }
          },
          "metadata": {},
          "execution_count": 25
        }
      ]
    },
    {
      "cell_type": "markdown",
      "source": [
        "## **4. Write a code to convert the string \"hello\" to uppercase.\"**"
      ],
      "metadata": {
        "id": "CF3fGF7_WuDQ"
      }
    },
    {
      "cell_type": "code",
      "source": [
        "str_3=\"hello\"\n",
        "str_3.upper()"
      ],
      "metadata": {
        "colab": {
          "base_uri": "https://localhost:8080/",
          "height": 35
        },
        "id": "HoF3VwbTbSHc",
        "outputId": "0babbe56-04b8-4993-bbb9-02604d0199b3"
      },
      "execution_count": null,
      "outputs": [
        {
          "output_type": "execute_result",
          "data": {
            "text/plain": [
              "'HELLO'"
            ],
            "application/vnd.google.colaboratory.intrinsic+json": {
              "type": "string"
            }
          },
          "metadata": {},
          "execution_count": 26
        }
      ]
    },
    {
      "cell_type": "markdown",
      "source": [
        "## **5. Write a code to replace the word \"apple\" with \"orange\" in the string \"I like apple\".**"
      ],
      "metadata": {
        "id": "vimXdqhjW4_X"
      }
    },
    {
      "cell_type": "code",
      "source": [
        "str_4=\"I like apple\"\n",
        "new_str=str_4.replace(\"apple\",\"orange\")\n",
        "print(new_str)"
      ],
      "metadata": {
        "colab": {
          "base_uri": "https://localhost:8080/"
        },
        "id": "eeONem_ybWxk",
        "outputId": "f19f3a90-b5fd-4c5f-9c32-acf259ed7a0c"
      },
      "execution_count": null,
      "outputs": [
        {
          "output_type": "stream",
          "name": "stdout",
          "text": [
            "I like orange\n"
          ]
        }
      ]
    },
    {
      "cell_type": "markdown",
      "source": [
        "## **6. Write a code to create a list with numbers 1 to 5 and print it.**"
      ],
      "metadata": {
        "id": "k1JUoBR9W_k_"
      }
    },
    {
      "cell_type": "code",
      "source": [
        "list_1=[1,2,3,4,5]\n",
        "print(list_1)"
      ],
      "metadata": {
        "colab": {
          "base_uri": "https://localhost:8080/"
        },
        "id": "yOLe7tnXb1VR",
        "outputId": "8983981b-5164-4fbe-bd98-4d583459a4e3"
      },
      "execution_count": null,
      "outputs": [
        {
          "output_type": "stream",
          "name": "stdout",
          "text": [
            "[1, 2, 3, 4, 5]\n"
          ]
        }
      ]
    },
    {
      "cell_type": "markdown",
      "source": [
        "## **7. Write a code to append the number 10 to the list [1, 2, 3, 4].**"
      ],
      "metadata": {
        "id": "lGHKL8nVXc03"
      }
    },
    {
      "cell_type": "code",
      "source": [
        "list_2=[1,2,3,4]\n",
        "list_2.append(10)\n",
        "print(list_2)"
      ],
      "metadata": {
        "colab": {
          "base_uri": "https://localhost:8080/"
        },
        "id": "u5XyRmJGb9gS",
        "outputId": "0ef97816-7382-4de5-c150-321cfb444f47"
      },
      "execution_count": null,
      "outputs": [
        {
          "output_type": "stream",
          "name": "stdout",
          "text": [
            "[1, 2, 3, 4, 10]\n"
          ]
        }
      ]
    },
    {
      "cell_type": "markdown",
      "source": [
        "## **8. Write a code to remove the number 3 from the list [1, 2, 3, 4, 5].**"
      ],
      "metadata": {
        "id": "7UGi4-R-Xihm"
      }
    },
    {
      "cell_type": "code",
      "source": [
        "list_3=[1,2,3,4,5]\n",
        "list_3.remove(3)\n",
        "print(list_3)"
      ],
      "metadata": {
        "colab": {
          "base_uri": "https://localhost:8080/"
        },
        "id": "MpPHpYRscDJq",
        "outputId": "c20cb1bf-1632-4a0e-c1a2-f18540610f74"
      },
      "execution_count": null,
      "outputs": [
        {
          "output_type": "stream",
          "name": "stdout",
          "text": [
            "[1, 2, 4, 5]\n"
          ]
        }
      ]
    },
    {
      "cell_type": "markdown",
      "source": [
        "## **9. Write a code to access the second element in the list ['a', 'b', 'c', 'd'].**"
      ],
      "metadata": {
        "id": "3h1LiOUCXnD2"
      }
    },
    {
      "cell_type": "code",
      "source": [
        "list_4=['a', 'b', 'c', 'd']\n",
        "print(list_4[1])"
      ],
      "metadata": {
        "colab": {
          "base_uri": "https://localhost:8080/"
        },
        "id": "Ju7IoPm0cHao",
        "outputId": "143c5aec-8c04-4484-bbc8-b47b950fe5a6"
      },
      "execution_count": null,
      "outputs": [
        {
          "output_type": "stream",
          "name": "stdout",
          "text": [
            "b\n"
          ]
        }
      ]
    },
    {
      "cell_type": "markdown",
      "source": [
        "## **10. Write a code to reverse the list [10, 20, 30, 40, 50].**"
      ],
      "metadata": {
        "id": "vK3cvrsgXrt9"
      }
    },
    {
      "cell_type": "code",
      "source": [
        "list_5=[10,20,30,40,50]\n",
        "list_5.reverse()\n",
        "print(list_5)"
      ],
      "metadata": {
        "colab": {
          "base_uri": "https://localhost:8080/"
        },
        "id": "MIbo6zfscMzg",
        "outputId": "84ffa44c-8d02-4dfb-badb-aff68146c876"
      },
      "execution_count": null,
      "outputs": [
        {
          "output_type": "stream",
          "name": "stdout",
          "text": [
            "[50, 40, 30, 20, 10]\n"
          ]
        }
      ]
    },
    {
      "cell_type": "markdown",
      "source": [
        "## **11. Write a code to create a tuple with the elements 100, 200, 300 and print it.**"
      ],
      "metadata": {
        "id": "maAJhI7DXwkN"
      }
    },
    {
      "cell_type": "code",
      "source": [
        "tuple_1=(100,200,300)\n",
        "print(tuple_1)"
      ],
      "metadata": {
        "colab": {
          "base_uri": "https://localhost:8080/"
        },
        "id": "kOfg9yImcTxw",
        "outputId": "a990bcd8-07c9-4f6c-fec3-469d16bebb77"
      },
      "execution_count": null,
      "outputs": [
        {
          "output_type": "stream",
          "name": "stdout",
          "text": [
            "(100, 200, 300)\n"
          ]
        }
      ]
    },
    {
      "cell_type": "markdown",
      "source": [
        "## **12. Write a code to access the second-to-last element of the tuple ('red', 'green', 'blue', 'yellow').**"
      ],
      "metadata": {
        "id": "EHuMhrUuX2DJ"
      }
    },
    {
      "cell_type": "code",
      "source": [
        "tuple_2=('red', 'green', 'blue', 'yellow')\n",
        "print(tuple_2[-2])"
      ],
      "metadata": {
        "colab": {
          "base_uri": "https://localhost:8080/"
        },
        "id": "TcnZ7_WicX7J",
        "outputId": "928925fc-d48d-42f9-fa01-d13775a93a41"
      },
      "execution_count": null,
      "outputs": [
        {
          "output_type": "stream",
          "name": "stdout",
          "text": [
            "blue\n"
          ]
        }
      ]
    },
    {
      "cell_type": "markdown",
      "source": [
        "## **13. Write a code to find the minimum number in the tuple (10, 20, 5, 15).**"
      ],
      "metadata": {
        "id": "1T0oHr67X7EF"
      }
    },
    {
      "cell_type": "code",
      "source": [
        "tuple_3=(10,20,5,15)\n",
        "print(min(tuple_3))"
      ],
      "metadata": {
        "colab": {
          "base_uri": "https://localhost:8080/"
        },
        "id": "mCjUond_cc9n",
        "outputId": "11760798-7517-457f-fcc7-eea9535ee805"
      },
      "execution_count": null,
      "outputs": [
        {
          "output_type": "stream",
          "name": "stdout",
          "text": [
            "5\n"
          ]
        }
      ]
    },
    {
      "cell_type": "markdown",
      "source": [
        "## **14. Write a code to find the index of the element \"cat\" in the tuple ('dog', 'cat', 'rabbit').**"
      ],
      "metadata": {
        "id": "Kcu2IzEiX-69"
      }
    },
    {
      "cell_type": "code",
      "source": [
        "tuple_4=('dog', 'cat', 'rabbit')\n",
        "print(tuple_4.index(\"cat\"))"
      ],
      "metadata": {
        "colab": {
          "base_uri": "https://localhost:8080/"
        },
        "id": "9Tsqyp6ZchJm",
        "outputId": "05c88779-4e61-4d58-c1d9-cfd9f984e1ea"
      },
      "execution_count": null,
      "outputs": [
        {
          "output_type": "stream",
          "name": "stdout",
          "text": [
            "1\n"
          ]
        }
      ]
    },
    {
      "cell_type": "markdown",
      "source": [
        "## **15. Write a code to create a tuple containing three different fruits and check if \"kiwi\" is in it.**"
      ],
      "metadata": {
        "id": "UacdnCxiYEcF"
      }
    },
    {
      "cell_type": "code",
      "source": [
        "tuple_5=(\"apple\", \"banana\", \"mango\")\n",
        "if \"kiwi\" in tuple_5:\n",
        "  print(\"Kiwi is in the tuple\")\n",
        "else:\n",
        "  print(\"Kiwi is not in the tuple\")"
      ],
      "metadata": {
        "colab": {
          "base_uri": "https://localhost:8080/"
        },
        "id": "LiqTcvqdcna2",
        "outputId": "63b291fa-284d-4b62-c0ff-53cf5c800b25"
      },
      "execution_count": null,
      "outputs": [
        {
          "output_type": "stream",
          "name": "stdout",
          "text": [
            "Kiwi is not in the tuple\n"
          ]
        }
      ]
    },
    {
      "cell_type": "markdown",
      "source": [
        "## **16. Write a code to create a set with the elements 'a', 'b', 'c' and print it.**"
      ],
      "metadata": {
        "id": "qQowjATCYKrL"
      }
    },
    {
      "cell_type": "code",
      "source": [
        "set_1={'a', 'b', 'c'}\n",
        "print(set_1)"
      ],
      "metadata": {
        "colab": {
          "base_uri": "https://localhost:8080/"
        },
        "id": "ole_hHV-c82f",
        "outputId": "6030b016-414b-4fd8-dbe2-362cb7a378c2"
      },
      "execution_count": null,
      "outputs": [
        {
          "output_type": "stream",
          "name": "stdout",
          "text": [
            "{'a', 'c', 'b'}\n"
          ]
        }
      ]
    },
    {
      "cell_type": "markdown",
      "source": [
        "## **17. Write a code to clear all elements from the set {1, 2, 3, 4, 5}.**"
      ],
      "metadata": {
        "id": "KoExNklvYWUg"
      }
    },
    {
      "cell_type": "code",
      "source": [
        "set_2={1,2,3,4,5}\n",
        "set_2.clear()\n",
        "print(set_2)"
      ],
      "metadata": {
        "colab": {
          "base_uri": "https://localhost:8080/"
        },
        "id": "11m8_qIodEWt",
        "outputId": "ff1b7b2c-3dc3-4c93-9c08-2ca69834b3d7"
      },
      "execution_count": null,
      "outputs": [
        {
          "output_type": "stream",
          "name": "stdout",
          "text": [
            "set()\n"
          ]
        }
      ]
    },
    {
      "cell_type": "markdown",
      "source": [
        "## **18. Write a code to remove the element 4 from the set {1, 2, 3, 4}.**"
      ],
      "metadata": {
        "id": "CjozkbrzYb_V"
      }
    },
    {
      "cell_type": "code",
      "source": [
        "set_3={1,2,3,4}\n",
        "set_3.remove(4)\n",
        "print(set_3)"
      ],
      "metadata": {
        "colab": {
          "base_uri": "https://localhost:8080/"
        },
        "id": "VrK_4scfdJyl",
        "outputId": "9b06ce8c-7c64-42d3-919a-5c07dc657c91"
      },
      "execution_count": null,
      "outputs": [
        {
          "output_type": "stream",
          "name": "stdout",
          "text": [
            "{1, 2, 3}\n"
          ]
        }
      ]
    },
    {
      "cell_type": "markdown",
      "source": [
        "## **19. Write a code to find the union of two sets {1, 2, 3} and {3, 4, 5}.**"
      ],
      "metadata": {
        "id": "fBvA_SF3YiZb"
      }
    },
    {
      "cell_type": "code",
      "source": [
        "set_4={1,2,3}\n",
        "set_5={3,4,5}\n",
        "print(set_4.union(set_5))"
      ],
      "metadata": {
        "colab": {
          "base_uri": "https://localhost:8080/"
        },
        "id": "VxQ5wEvZdNf9",
        "outputId": "06801505-3170-44cc-9a90-964c309e8619"
      },
      "execution_count": null,
      "outputs": [
        {
          "output_type": "stream",
          "name": "stdout",
          "text": [
            "{1, 2, 3, 4, 5}\n"
          ]
        }
      ]
    },
    {
      "cell_type": "markdown",
      "source": [
        "## **20. Write a code to find the intersection of two sets {1, 2, 3} and {2, 3, 4}.**"
      ],
      "metadata": {
        "id": "D04MZb4rYncC"
      }
    },
    {
      "cell_type": "code",
      "source": [
        "set_6={1,2,3}\n",
        "set_7={2,3,4}\n",
        "print(set_6.intersection(set_7))"
      ],
      "metadata": {
        "colab": {
          "base_uri": "https://localhost:8080/"
        },
        "id": "Tu5UBlT4dRnV",
        "outputId": "e8ec2458-376c-4ad9-e83d-4e0b1e04c402"
      },
      "execution_count": null,
      "outputs": [
        {
          "output_type": "stream",
          "name": "stdout",
          "text": [
            "{2, 3}\n"
          ]
        }
      ]
    },
    {
      "cell_type": "markdown",
      "source": [
        "## **21. Write a code to create a dictionary with the keys \"name\", \"age\", and \"city\", and print it.**"
      ],
      "metadata": {
        "id": "hHDWUIFmYr11"
      }
    },
    {
      "cell_type": "code",
      "source": [
        "dictn_1={\"name\": \"Navi\", \"age\": 25, \"city\": \"Bhubaneswar\"}\n",
        "print(dictn_1)"
      ],
      "metadata": {
        "colab": {
          "base_uri": "https://localhost:8080/"
        },
        "id": "RvwZRND4dU58",
        "outputId": "5c6cc258-1bfa-46da-8f56-6ae7938d2dc2"
      },
      "execution_count": null,
      "outputs": [
        {
          "output_type": "stream",
          "name": "stdout",
          "text": [
            "{'name': 'Navi', 'age': 25, 'city': 'Bhubaneswar'}\n"
          ]
        }
      ]
    },
    {
      "cell_type": "markdown",
      "source": [
        "## **22. Write a code to add a new key-value pair \"country\": \"USA\" to the dictionary {'name': 'John', 'age': 25}.**"
      ],
      "metadata": {
        "id": "6naeWPZSYwPr"
      }
    },
    {
      "cell_type": "code",
      "source": [
        "dictn_2={'name': 'John', 'age': 25}\n",
        "print(dictn_2)\n",
        "dictn_2[\"country\"]=\"USA\"\n",
        "print(dictn_2)"
      ],
      "metadata": {
        "colab": {
          "base_uri": "https://localhost:8080/"
        },
        "id": "ScjJh-9RdbGU",
        "outputId": "bc67ea67-203f-4a09-cec3-f6e2d213943f"
      },
      "execution_count": null,
      "outputs": [
        {
          "output_type": "stream",
          "name": "stdout",
          "text": [
            "{'name': 'John', 'age': 25}\n",
            "{'name': 'John', 'age': 25, 'country': 'USA'}\n"
          ]
        }
      ]
    },
    {
      "cell_type": "markdown",
      "source": [
        "## **23. Write a code to access the value associated with the key \"name\" in the dictionary {'name': 'Alice', 'age': 30}.**"
      ],
      "metadata": {
        "id": "JvuphPFNY0zx"
      }
    },
    {
      "cell_type": "code",
      "source": [
        "dictn_3={'name': 'Alice', 'age': 30}\n",
        "print(dictn_3[\"name\"])"
      ],
      "metadata": {
        "colab": {
          "base_uri": "https://localhost:8080/"
        },
        "id": "MRXxXRUAecHg",
        "outputId": "3fa754d8-3f26-47e6-894b-525ac542357b"
      },
      "execution_count": null,
      "outputs": [
        {
          "output_type": "stream",
          "name": "stdout",
          "text": [
            "Alice\n"
          ]
        }
      ]
    },
    {
      "cell_type": "markdown",
      "source": [
        "## **24. Write a code to remove the key \"age\" from the dictionary {'name': 'Bob', 'age': 22, 'city': 'New York'}.**"
      ],
      "metadata": {
        "id": "X_8Z427KY5jK"
      }
    },
    {
      "cell_type": "code",
      "source": [
        "dictn_4={'name': 'Bob', 'age': 22, 'city': 'New York'}\n",
        "print(dictn_4)\n",
        "dictn_4.pop(\"age\")\n",
        "print(dictn_4)"
      ],
      "metadata": {
        "colab": {
          "base_uri": "https://localhost:8080/"
        },
        "id": "-KiSKwZIeitz",
        "outputId": "7580e17c-3e58-43f6-d0f4-f6463c201466"
      },
      "execution_count": null,
      "outputs": [
        {
          "output_type": "stream",
          "name": "stdout",
          "text": [
            "{'name': 'Bob', 'age': 22, 'city': 'New York'}\n",
            "{'name': 'Bob', 'city': 'New York'}\n"
          ]
        }
      ]
    },
    {
      "cell_type": "markdown",
      "source": [
        "## **25. Write a code to check if the key \"city\" exists in the dictionary {'name': 'Alice', 'city': 'Paris'}.**"
      ],
      "metadata": {
        "id": "StGLV-ENY-ej"
      }
    },
    {
      "cell_type": "code",
      "source": [
        "dictn_5={'name': 'Alice', 'city': 'Paris'}\n",
        "if \"city\" in dictn_5:\n",
        "  print(\"City is in the dictionary\")\n",
        "else:\n",
        "  print(\"City is not in the dictionary\")"
      ],
      "metadata": {
        "colab": {
          "base_uri": "https://localhost:8080/"
        },
        "id": "3TI7PYDRevUi",
        "outputId": "b5fbfb26-3098-4489-95f9-98188119d3cf"
      },
      "execution_count": null,
      "outputs": [
        {
          "output_type": "stream",
          "name": "stdout",
          "text": [
            "City is in the dictionary\n"
          ]
        }
      ]
    },
    {
      "cell_type": "markdown",
      "source": [
        "## **26. Write a code to create a list, a tuple, and a dictionary, and print them all.**"
      ],
      "metadata": {
        "id": "KW1jdW5UZDUZ"
      }
    },
    {
      "cell_type": "code",
      "source": [
        "my_list=[\"Navi\",\"Kavi\",\"Savi\"]\n",
        "my_tuple=(\"Navi\",\"Kavi\",\"Savi\")\n",
        "my_dictn={\"Name\": \"Navi\", \"Age\": 25}\n",
        "print(my_list)\n",
        "print(my_tuple)\n",
        "print(my_dictn)"
      ],
      "metadata": {
        "colab": {
          "base_uri": "https://localhost:8080/"
        },
        "id": "rRAev5S2e2jI",
        "outputId": "4fe2b990-b957-4c1c-d935-2107fe5a6ef9"
      },
      "execution_count": null,
      "outputs": [
        {
          "output_type": "stream",
          "name": "stdout",
          "text": [
            "['Navi', 'Kavi', 'Savi']\n",
            "('Navi', 'Kavi', 'Savi')\n",
            "{'Name': 'Navi', 'Age': 25}\n"
          ]
        }
      ]
    },
    {
      "cell_type": "markdown",
      "source": [
        "## **27. Write a code to create a list of 5 random numbers between 1 and 100, sort it in ascending order, and print the**\n",
        "result.(replaced)"
      ],
      "metadata": {
        "id": "C6hK0TYDZHyL"
      }
    },
    {
      "cell_type": "code",
      "source": [
        "import random\n",
        "random_list=[]\n",
        "for i in range(5):\n",
        "  random_list.append(random.randint(1,100))\n",
        "random_list.sort()\n",
        "print(random_list)"
      ],
      "metadata": {
        "colab": {
          "base_uri": "https://localhost:8080/"
        },
        "id": "fiP4vFpmfg5V",
        "outputId": "d0315c24-a4ae-4fdf-8882-09c5e5abaf69"
      },
      "execution_count": null,
      "outputs": [
        {
          "output_type": "stream",
          "name": "stdout",
          "text": [
            "[17, 43, 73, 77, 92]\n"
          ]
        }
      ]
    },
    {
      "cell_type": "markdown",
      "source": [
        "## **28. Write a code to create a list with strings and print the element at the third index.**"
      ],
      "metadata": {
        "id": "U4CejUaQZUMZ"
      }
    },
    {
      "cell_type": "code",
      "source": [
        "str_list=[\"Air\",\"Water\",\"Land\",\"Fire\",\"Sun\"]\n",
        "print(\"Print Element at Index 3: \",str_list[3])"
      ],
      "metadata": {
        "colab": {
          "base_uri": "https://localhost:8080/"
        },
        "id": "JOuXdNhjgXaL",
        "outputId": "9de494b9-dd37-4303-db08-cd943e29ebf9"
      },
      "execution_count": null,
      "outputs": [
        {
          "output_type": "stream",
          "name": "stdout",
          "text": [
            "Print Element at Index 3:  Fire\n"
          ]
        }
      ]
    },
    {
      "cell_type": "markdown",
      "source": [
        "## **29. Write a code to combine two dictionaries into one and print the result.**"
      ],
      "metadata": {
        "id": "cGCQgLuSZd8o"
      }
    },
    {
      "cell_type": "code",
      "source": [
        "com_dictn_1={\"Name\": \"Navi\", \"Age\": 25}\n",
        "com_dictn_2={\"City\": \"Bhubaneswar\", \"Country\": \"India\"}\n",
        "combined_dictn={**com_dictn_1, **com_dictn_2}\n",
        "print(combined_dictn)"
      ],
      "metadata": {
        "colab": {
          "base_uri": "https://localhost:8080/"
        },
        "id": "Lf3NtzvWhEOM",
        "outputId": "6722cac3-68ec-4e79-ca06-c869ba7180ce"
      },
      "execution_count": null,
      "outputs": [
        {
          "output_type": "stream",
          "name": "stdout",
          "text": [
            "{'Name': 'Navi', 'Age': 25, 'City': 'Bhubaneswar', 'Country': 'India'}\n"
          ]
        }
      ]
    },
    {
      "cell_type": "markdown",
      "source": [
        "## **30. Write a code to convert a list of strings into a set.**"
      ],
      "metadata": {
        "id": "OieGOdEIZiGg"
      }
    },
    {
      "cell_type": "code",
      "source": [
        "list_str=[\"Navi\",\"BBSR\",\"India\"]\n",
        "set_str=set(list_str)\n",
        "print(set_str)"
      ],
      "metadata": {
        "colab": {
          "base_uri": "https://localhost:8080/"
        },
        "id": "L8s7eudhhPcy",
        "outputId": "3699715f-d444-4364-9a9e-6d288c0eb27e"
      },
      "execution_count": null,
      "outputs": [
        {
          "output_type": "stream",
          "name": "stdout",
          "text": [
            "{'Navi', 'India', 'BBSR'}\n"
          ]
        }
      ]
    }
  ]
}